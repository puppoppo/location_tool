{
 "cells": [
  {
   "cell_type": "markdown",
   "metadata": {
    "id": "rX8mhOLljYeM"
   },
   "source": [
    "##### Copyright 2019 The TensorFlow Authors."
   ]
  },
  {
   "cell_type": "code",
   "execution_count": 1,
   "metadata": {
    "cellView": "form",
    "execution": {
     "iopub.execute_input": "2021-02-12T23:08:31.487948Z",
     "iopub.status.busy": "2021-02-12T23:08:31.487306Z",
     "iopub.status.idle": "2021-02-12T23:08:31.489229Z",
     "shell.execute_reply": "2021-02-12T23:08:31.489629Z"
    },
    "id": "BZSlp3DAjdYf"
   },
   "outputs": [],
   "source": [
    "#@title Licensed under the Apache License, Version 2.0 (the \"License\");\n",
    "# you may not use this file except in compliance with the License.\n",
    "# You may obtain a copy of the License at\n",
    "#\n",
    "# https://www.apache.org/licenses/LICENSE-2.0\n",
    "#\n",
    "# Unless required by applicable law or agreed to in writing, software\n",
    "# distributed under the License is distributed on an \"AS IS\" BASIS,\n",
    "# WITHOUT WARRANTIES OR CONDITIONS OF ANY KIND, either express or implied.\n",
    "# See the License for the specific language governing permissions and\n",
    "# limitations under the License."
   ]
  },
  {
   "cell_type": "markdown",
   "metadata": {
    "id": "3wF5wszaj97Y"
   },
   "source": [
    "# 初心者のための TensorFlow 2.0 入門"
   ]
  },
  {
   "cell_type": "markdown",
   "metadata": {
    "id": "DUNzJc4jTj6G"
   },
   "source": [
    "<table class=\"tfo-notebook-buttons\" align=\"left\">\n",
    "  <td>\n",
    "    <a target=\"_blank\" href=\"https://www.tensorflow.org/tutorials/quickstart/beginner\"><img src=\"https://www.tensorflow.org/images/tf_logo_32px.png\" />View on TensorFlow.org</a>\n",
    "  </td>\n",
    "  <td>\n",
    "    <a target=\"_blank\" href=\"https://colab.research.google.com/github/tensorflow/docs-l10n/blob/master/site/ja/tutorials/quickstart/beginner.ipynb\"><img src=\"https://www.tensorflow.org/images/colab_logo_32px.png\" />Run in Google Colab</a>\n",
    "  </td>\n",
    "  <td>\n",
    "    <a target=\"_blank\" href=\"https://github.com/tensorflow/docs-l10n/blob/master/site/ja/tutorials/quickstart/beginner.ipynb\"><img src=\"https://www.tensorflow.org/images/GitHub-Mark-32px.png\" />View source on GitHub</a>\n",
    "  </td>\n",
    "  <td>\n",
    "    <a href=\"https://storage.googleapis.com/tensorflow_docs/docs-l10n/site/ja/tutorials/quickstart/beginner.ipynb\"><img src=\"https://www.tensorflow.org/images/download_logo_32px.png\" />Download notebook</a>\n",
    "  </td>\n",
    "</table>"
   ]
  },
  {
   "cell_type": "markdown",
   "metadata": {
    "id": "YRXLphinx2fF"
   },
   "source": [
    "Note: これらのドキュメントは私たちTensorFlowコミュニティが翻訳したものです。コミュニティによる 翻訳は**ベストエフォート**であるため、この翻訳が正確であることや[英語の公式ドキュメント](https://www.tensorflow.org/?hl=en)の 最新の状態を反映したものであることを保証することはできません。 この翻訳の品質を向上させるためのご意見をお持ちの方は、GitHubリポジトリ[tensorflow/docs-l10n](https://github.com/tensorflow/docs-l10n)にプルリクエストをお送りください。 コミュニティによる翻訳やレビューに参加していただける方は、 [docs-ja@tensorflow.org メーリングリスト](https://groups.google.com/a/tensorflow.org/forum/#!forum/docs-ja)にご連絡ください。"
   ]
  },
  {
   "cell_type": "markdown",
   "metadata": {
    "id": "GgJT2G3OwwlT"
   },
   "source": [
    "この短いイントロダクションでは [Keras](https://www.tensorflow.org/guide/keras/overview) を使って下記のことを行います。\n",
    "\n",
    "1. 画像を分類するニューラルネットワークを構築する\n",
    "2. このニューラルネットワークを訓練する\n",
    "3. そして最後に、モデルの正解率を評価する"
   ]
  },
  {
   "cell_type": "markdown",
   "metadata": {
    "id": "hiH7AC-NTniF"
   },
   "source": [
    "このファイルは [Google Colaboratory](https://colab.research.google.com/notebooks/welcome.ipynb) の notebook ファイルです。 Python プログラムはブラウザ上で直接実行されます。TensorFlow を学んだり使ったりするには最良の方法です。Google Colab のnotebook の実行方法は以下のとおりです。\n",
    "\n",
    "1. Pythonランタイムへの接続：メニューバーの右上で「接続」を選択します。\n",
    "2. ノートブックのコードセルをすべて実行：「ランタイム」メニューから「すべてのセルを実行」を選択します。"
   ]
  },
  {
   "cell_type": "markdown",
   "metadata": {
    "id": "kCJXrk_vwwlV"
   },
   "source": [
    "TensorFlow 2 のパッケージをダウンロードしてインストールします。プログラムに TensorFlow をインポートします。\n",
    "\n",
    "Note: TensorFlow 2 パッケージをインストールするためには `pip` をアップグレードしてください。詳細は [インストール](https://www.tensorflow.org/install)を参照ください。"
   ]
  },
  {
   "cell_type": "code",
   "execution_count": 2,
   "metadata": {
    "execution": {
     "iopub.execute_input": "2021-02-12T23:08:31.498339Z",
     "iopub.status.busy": "2021-02-12T23:08:31.497704Z",
     "iopub.status.idle": "2021-02-12T23:08:37.880737Z",
     "shell.execute_reply": "2021-02-12T23:08:37.881303Z"
    },
    "id": "0trJmd6DjqBZ"
   },
   "outputs": [],
   "source": [
    "import tensorflow as tf"
   ]
  },
  {
   "cell_type": "markdown",
   "metadata": {
    "id": "7NAbSZiaoJ4z"
   },
   "source": [
    "[MNIST データセット](http://yann.lecun.com/exdb/mnist/)をロードして準備します。サンプルを整数から浮動小数点数に変換します。"
   ]
  },
  {
   "cell_type": "code",
   "execution_count": 3,
   "metadata": {
    "execution": {
     "iopub.execute_input": "2021-02-12T23:08:37.886265Z",
     "iopub.status.busy": "2021-02-12T23:08:37.885557Z",
     "iopub.status.idle": "2021-02-12T23:08:38.333605Z",
     "shell.execute_reply": "2021-02-12T23:08:38.332975Z"
    },
    "id": "7FP5258xjs-v"
   },
   "outputs": [],
   "source": [
    "mnist = tf.keras.datasets.mnist\n",
    "\n",
    "(x_train, y_train), (x_test, y_test) = mnist.load_data()\n",
    "x_train, x_test = x_train / 255.0, x_test / 255.0"
   ]
  },
  {
   "cell_type": "markdown",
   "metadata": {
    "id": "BPZ68wASog_I"
   },
   "source": [
    "層を積み重ねて`tf.keras.Sequential`モデルを構築します。訓練のためにオプティマイザと損失関数を選びます。"
   ]
  },
  {
   "cell_type": "code",
   "execution_count": 4,
   "metadata": {
    "execution": {
     "iopub.execute_input": "2021-02-12T23:08:38.339162Z",
     "iopub.status.busy": "2021-02-12T23:08:38.338424Z",
     "iopub.status.idle": "2021-02-12T23:08:40.116054Z",
     "shell.execute_reply": "2021-02-12T23:08:40.115415Z"
    },
    "id": "h3IKyzTCDNGo"
   },
   "outputs": [],
   "source": [
    "model = tf.keras.models.Sequential([\n",
    "  tf.keras.layers.Flatten(input_shape=(28, 28)),\n",
    "  tf.keras.layers.Dense(128, activation='relu'),\n",
    "  tf.keras.layers.Dropout(0.2),\n",
    "  tf.keras.layers.Dense(10)\n",
    "])"
   ]
  },
  {
   "cell_type": "markdown",
   "metadata": {
    "id": "ix4mEL65on-w"
   },
   "source": [
    "モデルはそれぞれの標本について、クラスごとに\"[ロジット](https://developers.google.com/machine-learning/glossary#logits)\"や\"[対数オッズ比](https://developers.google.com/machine-learning/glossary#log-odds)\"と呼ばれるスコアを算出します。"
   ]
  },
  {
   "cell_type": "code",
   "execution_count": 5,
   "metadata": {
    "execution": {
     "iopub.execute_input": "2021-02-12T23:08:40.122756Z",
     "iopub.status.busy": "2021-02-12T23:08:40.122073Z",
     "iopub.status.idle": "2021-02-12T23:08:40.561553Z",
     "shell.execute_reply": "2021-02-12T23:08:40.562018Z"
    },
    "id": "F7dTAzgHDUh7"
   },
   "outputs": [
    {
     "data": {
      "text/plain": [
       "array([[ 0.06119704, -0.20086515,  0.00702903, -0.48996255, -0.45208266,\n",
       "        -0.5741232 ,  0.9203826 , -0.15006919, -0.01316312, -0.61534005]],\n",
       "      dtype=float32)"
      ]
     },
     "execution_count": 1,
     "metadata": {},
     "output_type": "execute_result"
    }
   ],
   "source": [
    "predictions = model(x_train[:1]).numpy()\n",
    "predictions"
   ]
  },
  {
   "cell_type": "markdown",
   "metadata": {
    "id": "T4JfEh7kvx6m"
   },
   "source": [
    "`tf.nn.softmax` 関数はクラスごとにこれらのロジットを \"確率\" に変換します。"
   ]
  },
  {
   "cell_type": "code",
   "execution_count": 6,
   "metadata": {
    "execution": {
     "iopub.execute_input": "2021-02-12T23:08:40.566559Z",
     "iopub.status.busy": "2021-02-12T23:08:40.565838Z",
     "iopub.status.idle": "2021-02-12T23:08:40.569649Z",
     "shell.execute_reply": "2021-02-12T23:08:40.570062Z"
    },
    "id": "0egSSdWsh5cp"
   },
   "outputs": [
    {
     "data": {
      "text/plain": [
       "array([[0.11075646, 0.08522301, 0.10491661, 0.06382686, 0.06629099,\n",
       "        0.05867498, 0.26152223, 0.08966383, 0.10281935, 0.05630574]],\n",
       "      dtype=float32)"
      ]
     },
     "execution_count": 1,
     "metadata": {},
     "output_type": "execute_result"
    }
   ],
   "source": [
    "tf.nn.softmax(predictions).numpy()"
   ]
  },
  {
   "cell_type": "markdown",
   "metadata": {
    "id": "a87oUHS3h5cs"
   },
   "source": [
    "Note: `tf.nn.softmax` をネットワークの最終レイヤーに対する活性化関数として組み込むことは可能です。これはモデルの出力に対して直接的に解釈できるようにする一方で、ソフトマックスの出力を用いる場合、すべてのモデルに対して正確で数値的安定に損失を計算することが不可能なため、このアプローチは推奨されません。"
   ]
  },
  {
   "cell_type": "markdown",
   "metadata": {
    "id": "dhVMTSPXh5cs"
   },
   "source": [
    "`losses.SparseCategoricalCrossentropy` 損失関数は、ロジットと `True` の インデックスに関するベクトルを入力にとり、それぞれの標本についてクラスごとに損失のスカラーを返します。"
   ]
  },
  {
   "cell_type": "code",
   "execution_count": 7,
   "metadata": {
    "execution": {
     "iopub.execute_input": "2021-02-12T23:08:40.574542Z",
     "iopub.status.busy": "2021-02-12T23:08:40.573854Z",
     "iopub.status.idle": "2021-02-12T23:08:40.576184Z",
     "shell.execute_reply": "2021-02-12T23:08:40.575658Z"
    },
    "id": "fAtJnprVh5cs"
   },
   "outputs": [],
   "source": [
    "loss_fn = tf.keras.losses.SparseCategoricalCrossentropy(from_logits=True)"
   ]
  },
  {
   "cell_type": "markdown",
   "metadata": {
    "id": "ueWehEBMh5cv"
   },
   "source": [
    "この損失は、クラスが正しい確率の対数をとって符号を反転させたものです。この値はモデルがこのクラスが正しいと確信しているときに 0 になります。\n",
    "\n",
    "この訓練されていないモデルはランダムに近い確率 (それぞれのクラスについて 1/10) を出力します、最初の損失は `-tf.log(1/10) ~= 2.3` に近い値になるはずです。"
   ]
  },
  {
   "cell_type": "code",
   "execution_count": 8,
   "metadata": {
    "execution": {
     "iopub.execute_input": "2021-02-12T23:08:40.581291Z",
     "iopub.status.busy": "2021-02-12T23:08:40.580579Z",
     "iopub.status.idle": "2021-02-12T23:08:40.586129Z",
     "shell.execute_reply": "2021-02-12T23:08:40.586585Z"
    },
    "id": "G88FT6kVh5cw"
   },
   "outputs": [
    {
     "data": {
      "text/plain": [
       "2.835742"
      ]
     },
     "execution_count": 1,
     "metadata": {},
     "output_type": "execute_result"
    }
   ],
   "source": [
    "loss_fn(y_train[:1], predictions).numpy()"
   ]
  },
  {
   "cell_type": "code",
   "execution_count": 9,
   "metadata": {
    "execution": {
     "iopub.execute_input": "2021-02-12T23:08:40.595536Z",
     "iopub.status.busy": "2021-02-12T23:08:40.594809Z",
     "iopub.status.idle": "2021-02-12T23:08:40.611518Z",
     "shell.execute_reply": "2021-02-12T23:08:40.610932Z"
    },
    "id": "JlD67Sv6h5cy"
   },
   "outputs": [],
   "source": [
    "model.compile(optimizer='adam',\n",
    "              loss=loss_fn,\n",
    "              metrics=['accuracy'])"
   ]
  },
  {
   "cell_type": "markdown",
   "metadata": {
    "id": "4E2xPavXh5c1"
   },
   "source": [
    "`Model.fit` メソッドは損失を最小化するようにモデルのパラメータを調整します。"
   ]
  },
  {
   "cell_type": "code",
   "execution_count": 10,
   "metadata": {
    "execution": {
     "iopub.execute_input": "2021-02-12T23:08:40.615714Z",
     "iopub.status.busy": "2021-02-12T23:08:40.614999Z",
     "iopub.status.idle": "2021-02-12T23:08:58.508575Z",
     "shell.execute_reply": "2021-02-12T23:08:58.509012Z"
    },
    "id": "wU5wv1KEh5c1"
   },
   "outputs": [
    {
     "name": "stdout",
     "output_type": "stream",
     "text": [
      "Epoch 1/5\n",
      "1875/1875 [==============================] - 3s 2ms/step - loss: 0.4747 - accuracy: 0.8607\n",
      "Epoch 2/5\n",
      "1875/1875 [==============================] - 4s 2ms/step - loss: 0.1524 - accuracy: 0.9547\n",
      "Epoch 3/5\n",
      "1875/1875 [==============================] - 4s 2ms/step - loss: 0.1119 - accuracy: 0.9660\n",
      "Epoch 4/5\n",
      "1875/1875 [==============================] - 4s 2ms/step - loss: 0.0874 - accuracy: 0.9723\n",
      "Epoch 5/5\n",
      "1875/1875 [==============================] - 3s 2ms/step - loss: 0.0757 - accuracy: 0.9759\n"
     ]
    },
    {
     "data": {
      "text/plain": [
       "<tensorflow.python.keras.callbacks.History at 0x7f5e0dd032e8>"
      ]
     },
     "execution_count": 1,
     "metadata": {},
     "output_type": "execute_result"
    }
   ],
   "source": [
    "model.fit(x_train, y_train, epochs=5)"
   ]
  },
  {
   "cell_type": "markdown",
   "metadata": {
    "id": "-KhBviERh5c4"
   },
   "source": [
    "`Model.evaluate` メソッドはモデルの性能を検査します。これには通常 \"[検証用データセット](https://developers.google.com/machine-learning/glossary#validation-set)\" または \"[テストデータセット](https://developers.google.com/machine-learning/glossary#test-set)\" を用います。"
   ]
  },
  {
   "cell_type": "code",
   "execution_count": 11,
   "metadata": {
    "execution": {
     "iopub.execute_input": "2021-02-12T23:08:58.513681Z",
     "iopub.status.busy": "2021-02-12T23:08:58.513028Z",
     "iopub.status.idle": "2021-02-12T23:08:59.080399Z",
     "shell.execute_reply": "2021-02-12T23:08:59.079776Z"
    },
    "id": "W8yoDmNlh5c4"
   },
   "outputs": [
    {
     "name": "stdout",
     "output_type": "stream",
     "text": [
      "313/313 - 0s - loss: 0.0729 - accuracy: 0.9765\n"
     ]
    },
    {
     "data": {
      "text/plain": [
       "[0.07291319221258163, 0.9764999747276306]"
      ]
     },
     "execution_count": 1,
     "metadata": {},
     "output_type": "execute_result"
    }
   ],
   "source": [
    "model.evaluate(x_test,  y_test, verbose=2)"
   ]
  },
  {
   "cell_type": "markdown",
   "metadata": {
    "id": "73uqbggUh5c6"
   },
   "source": [
    "この画像識別器はこのデータセットにおいておよそ 98% の正解率にまで訓練されました。更に学ぶためには [TensorFlow tutorials](https://www.tensorflow.org/tutorials/) を参照ください。"
   ]
  },
  {
   "cell_type": "markdown",
   "metadata": {
    "id": "pxcYhkhIh5c7"
   },
   "source": [
    "モデルが確率を返すようにしたい場合には、モデルをラップしてソフトマックス関数を適用してください。"
   ]
  },
  {
   "cell_type": "code",
   "execution_count": 12,
   "metadata": {
    "execution": {
     "iopub.execute_input": "2021-02-12T23:08:59.087739Z",
     "iopub.status.busy": "2021-02-12T23:08:59.086980Z",
     "iopub.status.idle": "2021-02-12T23:08:59.107363Z",
     "shell.execute_reply": "2021-02-12T23:08:59.106761Z"
    },
    "id": "draauA9hh5c7"
   },
   "outputs": [],
   "source": [
    "probability_model = tf.keras.Sequential([\n",
    "  model,\n",
    "  tf.keras.layers.Softmax()\n",
    "])"
   ]
  },
  {
   "cell_type": "code",
   "execution_count": 13,
   "metadata": {
    "execution": {
     "iopub.execute_input": "2021-02-12T23:08:59.112177Z",
     "iopub.status.busy": "2021-02-12T23:08:59.111446Z",
     "iopub.status.idle": "2021-02-12T23:08:59.117618Z",
     "shell.execute_reply": "2021-02-12T23:08:59.118077Z"
    },
    "id": "WcbO1miJh5c-"
   },
   "outputs": [
    {
     "data": {
      "text/plain": [
       "<tf.Tensor: shape=(5, 10), dtype=float32, numpy=\n",
       "array([[2.8762310e-07, 1.7892530e-08, 7.0764213e-07, 3.2105378e-05,\n",
       "        9.0844152e-11, 4.1258826e-08, 3.4897377e-11, 9.9996567e-01,\n",
       "        9.9536855e-08, 1.1019590e-06],\n",
       "       [1.0783906e-08, 4.3860757e-05, 9.9995041e-01, 5.5828036e-06,\n",
       "        1.5878122e-14, 8.8886246e-08, 2.4903997e-11, 7.8513137e-14,\n",
       "        2.3874357e-08, 5.1570967e-14],\n",
       "       [4.0354365e-07, 9.9930716e-01, 2.0885863e-04, 8.4203111e-06,\n",
       "        6.9717316e-05, 9.5741398e-06, 1.4762935e-05, 2.6579836e-04,\n",
       "        1.1394392e-04, 1.3589201e-06],\n",
       "       [9.9855071e-01, 3.3742854e-08, 1.3609608e-03, 4.1380794e-08,\n",
       "        1.7093998e-06, 1.0971253e-06, 8.2079889e-05, 2.8536322e-06,\n",
       "        6.2322755e-08, 5.8391095e-07],\n",
       "       [1.2951501e-06, 1.1772244e-09, 8.8265404e-07, 1.2821961e-09,\n",
       "        9.9867141e-01, 3.1477089e-08, 2.1445089e-06, 1.0260712e-05,\n",
       "        9.7084811e-09, 1.3141247e-03]], dtype=float32)>"
      ]
     },
     "execution_count": 1,
     "metadata": {},
     "output_type": "execute_result"
    }
   ],
   "source": [
    "probability_model(x_test[:5])"
   ]
  }
 ],
 "metadata": {
  "colab": {
   "collapsed_sections": [],
   "name": "beginner.ipynb",
   "toc_visible": true
  },
  "kernelspec": {
   "display_name": "Python 3",
   "language": "python",
   "name": "python3"
  },
  "language_info": {
   "codemirror_mode": {
    "name": "ipython",
    "version": 3
   },
   "file_extension": ".py",
   "mimetype": "text/x-python",
   "name": "python",
   "nbconvert_exporter": "python",
   "pygments_lexer": "ipython3",
   "version": "3.9.5"
  }
 },
 "nbformat": 4,
 "nbformat_minor": 1
}
