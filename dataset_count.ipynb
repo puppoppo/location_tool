{
 "cells": [
  {
   "cell_type": "code",
   "execution_count": 1,
   "id": "coordinated-camcorder",
   "metadata": {},
   "outputs": [],
   "source": [
    "import pandas as pd\n",
    "import numpy as np\n",
    "\n",
    "pm=open('pm_98_TMR.fasta','r')\n",
    "npm=open('npm_98_TMR.fasta','r')\n",
    "\n",
    "fas = [[]]\n",
    "\n",
    "while True:\n",
    "    reading = pm.readline()\n",
    "    reading = reading.rstrip()\n",
    "\n",
    "    if not reading.startswith('>'):\n",
    "        if reading == '':\n",
    "            break\n",
    "        fas.append(list(reading))\n",
    "\n",
    "fas.remove([])\n",
    "columns=list(range(-25,26))\n",
    "df_pm=pd.DataFrame(fas,columns=columns)\n",
    "\n",
    "fas = [[]]\n",
    "\n",
    "while True:\n",
    "    reading = npm.readline()\n",
    "    reading = reading.rstrip()\n",
    "\n",
    "    if not reading.startswith('>'):\n",
    "        if reading == '':\n",
    "            break\n",
    "        fas.append(list(reading))\n",
    "\n",
    "fas.remove([])\n",
    "columns=list(range(-25,26))\n",
    "df_npm=pd.DataFrame(fas,columns=columns)"
   ]
  },
  {
   "cell_type": "code",
   "execution_count": 2,
   "id": "coated-support",
   "metadata": {},
   "outputs": [],
   "source": [
    "position=-25"
   ]
  },
  {
   "cell_type": "code",
   "execution_count": 7,
   "id": "assured-roller",
   "metadata": {},
   "outputs": [
    {
     "name": "stdout",
     "output_type": "stream",
     "text": [
      "[5, 3, 0, 4, 4, 6, 1, 1, 3, 10, 0, 0, 3, 2, 2, 3, 2, 2, 0, 0]\n"
     ]
    }
   ],
   "source": [
    "count=[0 for i in range(20)]\n",
    "\n",
    "i=0\n",
    "\n",
    "while i<len(df_pm.columns):\n",
    "    if df_pm.iat[position,i]==\"A\":\n",
    "        count[0]=count[0]+1\n",
    "    elif df_pm.iat[position,i]==\"C\":\n",
    "        count[1]=count[1]+1\n",
    "    elif df_pm.iat[position,i]==\"D\":\n",
    "        count[2]=count[2]+1\n",
    "    elif df_pm.iat[position,i]==\"E\":\n",
    "        count[3]=count[3]+1\n",
    "    elif df_pm.iat[position,i]==\"F\":\n",
    "        count[4]=count[4]+1\n",
    "    elif df_pm.iat[position,i]==\"G\":\n",
    "        count[5]=count[5]+1\n",
    "    elif df_pm.iat[position,i]==\"H\":\n",
    "        count[6]=count[6]+1\n",
    "    elif df_pm.iat[position,i]==\"I\":\n",
    "        count[7]=count[7]+1\n",
    "    elif df_pm.iat[position,i]==\"K\":\n",
    "        count[8]=count[8]+1\n",
    "    elif df_pm.iat[position,i]==\"L\":\n",
    "        count[9]=count[9]+1\n",
    "    elif df_pm.iat[position,i]==\"M\":\n",
    "        count[10]=count[10]+1\n",
    "    elif df_pm.iat[position,i]==\"N\":\n",
    "        count[11]=count[11]+1\n",
    "    elif df_pm.iat[position,i]==\"P\":\n",
    "        count[12]=count[12]+1\n",
    "    elif df_pm.iat[position,i]==\"Q\":\n",
    "        count[13]=count[13]+1\n",
    "    elif df_pm.iat[position,i]==\"R\":\n",
    "        count[14]=count[14]+1\n",
    "    elif df_pm.iat[position,i]==\"S\":\n",
    "        count[15]=count[15]+1\n",
    "    elif df_pm.iat[position,i]==\"T\":\n",
    "        count[16]=count[16]+1\n",
    "    elif df_pm.iat[position,i]==\"V\":\n",
    "        count[17]=count[17]+1\n",
    "    elif df_pm.iat[position,i]==\"W\":\n",
    "        count[18]=count[18]+1\n",
    "    elif df_pm.iat[position,i]==\"Y\":\n",
    "        count[19]=count[19]+1\n",
    "    i=i+1\n",
    "\n",
    "print (count)"
   ]
  }
 ],
 "metadata": {
  "kernelspec": {
   "display_name": "Python 3",
   "language": "python",
   "name": "python3"
  },
  "language_info": {
   "codemirror_mode": {
    "name": "ipython",
    "version": 3
   },
   "file_extension": ".py",
   "mimetype": "text/x-python",
   "name": "python",
   "nbconvert_exporter": "python",
   "pygments_lexer": "ipython3",
   "version": "3.9.2"
  }
 },
 "nbformat": 4,
 "nbformat_minor": 5
}
